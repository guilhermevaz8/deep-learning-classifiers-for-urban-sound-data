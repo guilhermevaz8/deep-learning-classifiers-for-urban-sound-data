{
 "cells": [
  {
   "cell_type": "code",
   "execution_count": 2,
   "id": "838c7a5b",
   "metadata": {},
   "outputs": [
    {
     "data": {
      "text/html": [
       "<div>\n",
       "<style scoped>\n",
       "    .dataframe tbody tr th:only-of-type {\n",
       "        vertical-align: middle;\n",
       "    }\n",
       "\n",
       "    .dataframe tbody tr th {\n",
       "        vertical-align: top;\n",
       "    }\n",
       "\n",
       "    .dataframe thead th {\n",
       "        text-align: right;\n",
       "    }\n",
       "</style>\n",
       "<table border=\"1\" class=\"dataframe\">\n",
       "  <thead>\n",
       "    <tr style=\"text-align: right;\">\n",
       "      <th></th>\n",
       "      <th>slice_file_name</th>\n",
       "      <th>fsID</th>\n",
       "      <th>start</th>\n",
       "      <th>end</th>\n",
       "      <th>salience</th>\n",
       "      <th>fold</th>\n",
       "      <th>classID</th>\n",
       "      <th>class</th>\n",
       "    </tr>\n",
       "  </thead>\n",
       "  <tbody>\n",
       "    <tr>\n",
       "      <th>0</th>\n",
       "      <td>100032-3-0-0.wav</td>\n",
       "      <td>100032</td>\n",
       "      <td>0.0</td>\n",
       "      <td>0.317551</td>\n",
       "      <td>1</td>\n",
       "      <td>5</td>\n",
       "      <td>3</td>\n",
       "      <td>dog_bark</td>\n",
       "    </tr>\n",
       "    <tr>\n",
       "      <th>1</th>\n",
       "      <td>100263-2-0-117.wav</td>\n",
       "      <td>100263</td>\n",
       "      <td>58.5</td>\n",
       "      <td>62.500000</td>\n",
       "      <td>1</td>\n",
       "      <td>5</td>\n",
       "      <td>2</td>\n",
       "      <td>children_playing</td>\n",
       "    </tr>\n",
       "    <tr>\n",
       "      <th>2</th>\n",
       "      <td>100263-2-0-121.wav</td>\n",
       "      <td>100263</td>\n",
       "      <td>60.5</td>\n",
       "      <td>64.500000</td>\n",
       "      <td>1</td>\n",
       "      <td>5</td>\n",
       "      <td>2</td>\n",
       "      <td>children_playing</td>\n",
       "    </tr>\n",
       "    <tr>\n",
       "      <th>3</th>\n",
       "      <td>100263-2-0-126.wav</td>\n",
       "      <td>100263</td>\n",
       "      <td>63.0</td>\n",
       "      <td>67.000000</td>\n",
       "      <td>1</td>\n",
       "      <td>5</td>\n",
       "      <td>2</td>\n",
       "      <td>children_playing</td>\n",
       "    </tr>\n",
       "    <tr>\n",
       "      <th>4</th>\n",
       "      <td>100263-2-0-137.wav</td>\n",
       "      <td>100263</td>\n",
       "      <td>68.5</td>\n",
       "      <td>72.500000</td>\n",
       "      <td>1</td>\n",
       "      <td>5</td>\n",
       "      <td>2</td>\n",
       "      <td>children_playing</td>\n",
       "    </tr>\n",
       "  </tbody>\n",
       "</table>\n",
       "</div>"
      ],
      "text/plain": [
       "      slice_file_name    fsID  start        end  salience  fold  classID  \\\n",
       "0    100032-3-0-0.wav  100032    0.0   0.317551         1     5        3   \n",
       "1  100263-2-0-117.wav  100263   58.5  62.500000         1     5        2   \n",
       "2  100263-2-0-121.wav  100263   60.5  64.500000         1     5        2   \n",
       "3  100263-2-0-126.wav  100263   63.0  67.000000         1     5        2   \n",
       "4  100263-2-0-137.wav  100263   68.5  72.500000         1     5        2   \n",
       "\n",
       "              class  \n",
       "0          dog_bark  \n",
       "1  children_playing  \n",
       "2  children_playing  \n",
       "3  children_playing  \n",
       "4  children_playing  "
      ]
     },
     "execution_count": 2,
     "metadata": {},
     "output_type": "execute_result"
    }
   ],
   "source": [
    "import pandas as pd\n",
    "dfclass = pd.read_csv(r'UrbanSound8K.csv')\n",
    "dfclass.head()"
   ]
  },
  {
   "cell_type": "code",
   "execution_count": 3,
   "id": "53e6f4f0",
   "metadata": {},
   "outputs": [
    {
     "name": "stderr",
     "output_type": "stream",
     "text": [
      "2023-12-02 19:42:12.242975: I tensorflow/tsl/cuda/cudart_stub.cc:28] Could not find cuda drivers on your machine, GPU will not be used.\n",
      "2023-12-02 19:42:12.279223: I tensorflow/tsl/cuda/cudart_stub.cc:28] Could not find cuda drivers on your machine, GPU will not be used.\n",
      "2023-12-02 19:42:12.280795: I tensorflow/core/platform/cpu_feature_guard.cc:182] This TensorFlow binary is optimized to use available CPU instructions in performance-critical operations.\n",
      "To enable the following instructions: AVX2 FMA, in other operations, rebuild TensorFlow with the appropriate compiler flags.\n",
      "2023-12-02 19:42:13.036035: W tensorflow/compiler/tf2tensorrt/utils/py_utils.cc:38] TF-TRT Warning: Could not find TensorRT\n"
     ]
    }
   ],
   "source": [
    "import os\n",
    "import numpy as np\n",
    "import pandas as pd\n",
    "from tensorflow.keras.models import Sequential\n",
    "from tensorflow.keras.layers import Conv1D, MaxPooling1D, Flatten, Dense\n",
    "from sklearn.metrics import confusion_matrix, accuracy_score\n",
    "from sklearn.model_selection import KFold\n",
    "import librosa\n",
    "import random\n",
    "import gc\n"
   ]
  },
  {
   "cell_type": "code",
   "execution_count": 4,
   "id": "4d276692",
   "metadata": {},
   "outputs": [],
   "source": [
    "def load_raw_audio(file_path, sample_rate=22050):\n",
    "    # Carrega o arquivo de áudio com librosa\n",
    "    audio, _ = librosa.load(file_path, sr=sample_rate)\n",
    "    return audio\n"
   ]
  },
  {
   "cell_type": "code",
   "execution_count": 5,
   "id": "492613a4",
   "metadata": {},
   "outputs": [
    {
     "name": "stdout",
     "output_type": "stream",
     "text": [
      "8732\n",
      "873\n",
      "10\n",
      "87\n"
     ]
    }
   ],
   "source": [
    "FOLDS_PATH = \"../UrbanSound8K/audio/\"\n",
    "all_audio_paths = []\n",
    "all_labels = []\n",
    "\n",
    "# Supondo que você tenha um DataFrame df com as colunas 'file_path' e 'label'\n",
    "# Organize os dados de cada fold em listas separadas\n",
    "\n",
    "i=0\n",
    "# Organize os dados de cada fold em listas separadas\n",
    "fold_data = {f'fold{i}': {'all_paths': [], 'paths': [], 'labels': []} for i in range(1, 11)}\n",
    "\n",
    "for index, row in dfclass.iterrows():\n",
    "    i+=1\n",
    "    fold = row['fold']\n",
    "    file_path = os.path.join(FOLDS_PATH, f\"fold{fold}\", row[\"slice_file_name\"])\n",
    "    fold_data[f\"fold{fold}\"]['all_paths'].append(file_path)\n",
    "    fold_data[f\"fold{fold}\"]['labels'].append(row['classID'])\n",
    "\n",
    "print(i)\n",
    "i=0\n",
    "print(len(fold_data['fold1']['all_paths']))\n",
    "\n",
    "# Dividir aleatoriamente cada fold em metades\n",
    "for fold, data in fold_data.items():\n",
    "    combined = list(zip(data['all_paths'], data['labels']))\n",
    "    random.shuffle(combined)\n",
    "    paths, labels = zip(*combined)\n",
    "    split_index = len(paths)//10\n",
    "    data['paths'] = paths[:split_index]\n",
    "    data['labels'] = labels[:split_index]\n",
    "    \n",
    "    i+=1\n",
    "print(i)\n",
    "print(len(fold_data['fold1']['paths']))"
   ]
  },
  {
   "cell_type": "code",
   "execution_count": 6,
   "id": "cafd5320",
   "metadata": {},
   "outputs": [
    {
     "data": {
      "text/plain": [
       "0"
      ]
     },
     "execution_count": 6,
     "metadata": {},
     "output_type": "execute_result"
    }
   ],
   "source": [
    "gc.collect()"
   ]
  },
  {
   "cell_type": "code",
   "execution_count": 1,
   "id": "5e0bad45",
   "metadata": {},
   "outputs": [
    {
     "name": "stderr",
     "output_type": "stream",
     "text": [
      "2023-12-02 19:47:43.163360: I tensorflow/tsl/cuda/cudart_stub.cc:28] Could not find cuda drivers on your machine, GPU will not be used.\n",
      "2023-12-02 19:47:43.217277: I tensorflow/tsl/cuda/cudart_stub.cc:28] Could not find cuda drivers on your machine, GPU will not be used.\n",
      "2023-12-02 19:47:43.218770: I tensorflow/core/platform/cpu_feature_guard.cc:182] This TensorFlow binary is optimized to use available CPU instructions in performance-critical operations.\n",
      "To enable the following instructions: AVX2 FMA, in other operations, rebuild TensorFlow with the appropriate compiler flags.\n",
      "2023-12-02 19:47:44.406098: W tensorflow/compiler/tf2tensorrt/utils/py_utils.cc:38] TF-TRT Warning: Could not find TensorRT\n"
     ]
    }
   ],
   "source": [
    "from tensorflow.keras.models import Sequential\n",
    "from tensorflow.keras.layers import Conv1D, MaxPooling1D, Flatten, Dense, Dropout, BatchNormalization\n",
    "\n",
    "def create_model(input_shape, num_classes=10):\n",
    "    model = Sequential()\n",
    "    model.add(Conv1D(32, 5, activation='relu', input_shape=input_shape))\n",
    "    model.add(BatchNormalization())\n",
    "    model.add(MaxPooling1D(3))\n",
    "    model.add(Conv1D(64, 5, activation='relu'))\n",
    "    model.add(BatchNormalization())\n",
    "    model.add(MaxPooling1D(3))\n",
    "    model.add(Flatten())\n",
    "    model.add(Dense(128, activation='relu'))\n",
    "    model.add(Dropout(0.5))\n",
    "    model.add(Dense(num_classes, activation='softmax'))  # Ajuste para o número de classes\n",
    "    model.compile(optimizer='adam', loss='sparse_categorical_crossentropy', metrics=['accuracy'])\n",
    "    return model\n"
   ]
  },
  {
   "cell_type": "code",
   "execution_count": null,
   "id": "17a481f1",
   "metadata": {
    "scrolled": false
   },
   "outputs": [
    {
     "name": "stdout",
     "output_type": "stream",
     "text": [
      "Processando Fold 1\n",
      "modelo 1\n"
     ]
    },
    {
     "name": "stderr",
     "output_type": "stream",
     "text": [
      "2023-12-02 19:42:46.190180: I tensorflow/compiler/xla/stream_executor/cuda/cuda_gpu_executor.cc:982] could not open file to read NUMA node: /sys/bus/pci/devices/0000:01:00.0/numa_node\n",
      "Your kernel may have been built without NUMA support.\n",
      "2023-12-02 19:42:46.312991: W tensorflow/core/common_runtime/gpu/gpu_device.cc:1956] Cannot dlopen some GPU libraries. Please make sure the missing libraries mentioned above are installed properly if you would like to use GPU. Follow the guide at https://www.tensorflow.org/install/gpu for how to download and setup the required libraries for your platform.\n",
      "Skipping registering GPU devices...\n",
      "2023-12-02 19:42:46.454692: W tensorflow/tsl/framework/cpu_allocator_impl.cc:83] Allocation of 321060864 exceeds 10% of free system memory.\n",
      "2023-12-02 19:42:46.519692: W tensorflow/tsl/framework/cpu_allocator_impl.cc:83] Allocation of 321060864 exceeds 10% of free system memory.\n",
      "2023-12-02 19:42:46.576843: W tensorflow/tsl/framework/cpu_allocator_impl.cc:83] Allocation of 321060864 exceeds 10% of free system memory.\n"
     ]
    },
    {
     "name": "stdout",
     "output_type": "stream",
     "text": [
      "Epoch 1/10\n"
     ]
    },
    {
     "name": "stderr",
     "output_type": "stream",
     "text": [
      "2023-12-02 19:42:46.888797: W tensorflow/tsl/framework/cpu_allocator_impl.cc:83] Allocation of 275536800 exceeds 10% of free system memory.\n",
      "2023-12-02 19:42:47.211393: W tensorflow/tsl/framework/cpu_allocator_impl.cc:83] Allocation of 321060864 exceeds 10% of free system memory.\n"
     ]
    }
   ],
   "source": [
    "TARGET_LENGTH = 4*22050\n",
    "\n",
    "def process_audio_paths(paths, target_length=TARGET_LENGTH):\n",
    "    processed_audios = []\n",
    "    for path in paths:\n",
    "        audio = load_raw_audio(path)\n",
    "        # Truncar ou preencher com zeros para obter um comprimento uniforme\n",
    "        if len(audio) > target_length:\n",
    "            audio = audio[:target_length]\n",
    "        else:\n",
    "            audio = np.pad(audio, (0, max(0, target_length - len(audio))), \"constant\")\n",
    "        processed_audios.append(audio)\n",
    "    return np.array(processed_audios)\n",
    "\n",
    "results = []\n",
    "histories=[]\n",
    "\n",
    "for i in range(1, 11):\n",
    "    print(f\"Processando Fold {i}\")\n",
    "    \n",
    "    # Processa os caminhos dos áudios\n",
    "    test_paths = fold_data[f'fold{i}']['paths']\n",
    "    test_labels = fold_data[f'fold{i}']['labels']\n",
    "    train_paths = [path for fold, data in fold_data.items() if fold != f'fold{i}' for path in data['paths']]\n",
    "    train_labels = [label for fold, data in fold_data.items() if fold != f'fold{i}' for label in data['labels']]\n",
    "    \n",
    "    X_train = process_audio_paths(train_paths)\n",
    "    X_test = process_audio_paths(test_paths)\n",
    "    y_train = np.array(train_labels)\n",
    "    y_test = np.array(test_labels)\n",
    "    \n",
    "    # Dividir o conjunto de teste em metades iguais para teste e validação\n",
    "    split_index = len(X_test) // 2\n",
    "    X_val, y_val = X_test[:split_index], y_test[:split_index]\n",
    "    X_test, y_test = X_test[split_index:], y_test[split_index:]\n",
    "    \n",
    "    # Criação e treinamento do modelo\n",
    "    print(f\"modelo {i}\")\n",
    "    model = create_model((TARGET_LENGTH, 1))  # Ajuste as dimensões conforme necessário\n",
    "    from tensorflow.keras.callbacks import EarlyStopping\n",
    "\n",
    "    early_stopping = EarlyStopping(monitor='val_accuracy', patience=5, restore_best_weights=True)\n",
    "    history = model.fit(X_train, y_train, epochs=10, batch_size=32, validation_data=(X_val, y_val))\n",
    "    print(f\"acabei modelo{i}\")\n",
    "    # Avaliação do modelo\n",
    "    y_pred = model.predict(X_test)\n",
    "    y_pred_classes = np.argmax(y_pred, axis=1)\n",
    "    histories.append(history.history)\n",
    "    results.append(accuracy_score(y_test, y_pred_classes))\n",
    "\n",
    "    # Imprimir resultados do fold atual\n",
    "    print(f\"Fold {i} Accuracy: {results[-1]}\")\n"
   ]
  },
  {
   "cell_type": "code",
   "execution_count": null,
   "id": "fc069379",
   "metadata": {},
   "outputs": [],
   "source": [
    "# Média das acurácias\n",
    "average_accuracy = np.mean(results)\n",
    "print(f\"Average Accuracy: {average_accuracy}\")\n",
    "\n",
    "# Desvio padrão das acurácias\n",
    "std_dev_accuracy = np.std(results)\n",
    "print(f\"Standard Deviation of Accuracy: {std_dev_accuracy}\")\n"
   ]
  },
  {
   "cell_type": "code",
   "execution_count": null,
   "id": "8374e4a4",
   "metadata": {},
   "outputs": [],
   "source": [
    "import matplotlib.pyplot as plt\n",
    "\n",
    "# Plotar gráficos para o último fold como exemplo\n",
    "plt.plot(history.history['accuracy'])\n",
    "plt.plot(history.history['val_accuracy'])\n",
    "plt.title('Model Accuracy')\n",
    "plt.ylabel('Accuracy')\n",
    "plt.xlabel('Epoch')\n",
    "plt.legend(['Train', 'Validation'], loc='upper left')\n",
    "plt.show()\n",
    "\n",
    "plt.plot(history.history['loss'])\n",
    "plt.plot(history.history['val_loss'])\n",
    "plt.title('Model Loss')\n",
    "plt.ylabel('Loss')\n",
    "plt.xlabel('Epoch')\n",
    "plt.legend(['Train', 'Validation'], loc='upper left')\n",
    "plt.show()\n"
   ]
  },
  {
   "cell_type": "code",
   "execution_count": null,
   "id": "4fd7b8d0",
   "metadata": {},
   "outputs": [],
   "source": []
  }
 ],
 "metadata": {
  "kernelspec": {
   "display_name": "Python 3 (ipykernel)",
   "language": "python",
   "name": "python3"
  },
  "language_info": {
   "codemirror_mode": {
    "name": "ipython",
    "version": 3
   },
   "file_extension": ".py",
   "mimetype": "text/x-python",
   "name": "python",
   "nbconvert_exporter": "python",
   "pygments_lexer": "ipython3",
   "version": "3.8.10"
  }
 },
 "nbformat": 4,
 "nbformat_minor": 5
}
