{
 "cells": [
  {
   "cell_type": "code",
   "execution_count": 1,
   "metadata": {},
   "outputs": [
    {
     "name": "stderr",
     "output_type": "stream",
     "text": [
      "2023-12-05 17:40:34.407140: I tensorflow/tsl/cuda/cudart_stub.cc:28] Could not find cuda drivers on your machine, GPU will not be used.\n",
      "2023-12-05 17:40:34.649367: I tensorflow/tsl/cuda/cudart_stub.cc:28] Could not find cuda drivers on your machine, GPU will not be used.\n",
      "2023-12-05 17:40:34.652570: I tensorflow/core/platform/cpu_feature_guard.cc:182] This TensorFlow binary is optimized to use available CPU instructions in performance-critical operations.\n",
      "To enable the following instructions: AVX2 FMA, in other operations, rebuild TensorFlow with the appropriate compiler flags.\n",
      "2023-12-05 17:40:36.308998: W tensorflow/compiler/tf2tensorrt/utils/py_utils.cc:38] TF-TRT Warning: Could not find TensorRT\n"
     ]
    }
   ],
   "source": [
    "import numpy as np\n",
    "import pandas as pd\n",
    "import librosa\n",
    "import librosa.display\n",
    "import matplotlib.pyplot as plt\n",
    "from sklearn.model_selection import train_test_split\n",
    "from sklearn.preprocessing import LabelEncoder\n",
    "from tensorflow.keras.models import Sequential\n",
    "from tensorflow.keras.layers import Dense, Conv2D, MaxPooling2D, Flatten, Dropout, Conv1D,MaxPooling1D\n",
    "from tensorflow.keras.utils import to_categorical\n",
    "from tensorflow.keras.regularizers import l2\n",
    "import tensorflow as tf\n",
    "import os\n",
    "import librosa\n",
    "import seaborn as sns\n",
    "import numpy as np\n",
    "from sklearn.model_selection import train_test_split\n",
    "from sklearn.preprocessing import StandardScaler\n",
    "import warnings\n",
    "warnings.filterwarnings('ignore')\n",
    "from sklearn.metrics import confusion_matrix\n",
    "import IPython.display as ipd"
   ]
  },
  {
   "cell_type": "code",
   "execution_count": 2,
   "metadata": {},
   "outputs": [
    {
     "data": {
      "text/html": [
       "<div>\n",
       "<style scoped>\n",
       "    .dataframe tbody tr th:only-of-type {\n",
       "        vertical-align: middle;\n",
       "    }\n",
       "\n",
       "    .dataframe tbody tr th {\n",
       "        vertical-align: top;\n",
       "    }\n",
       "\n",
       "    .dataframe thead th {\n",
       "        text-align: right;\n",
       "    }\n",
       "</style>\n",
       "<table border=\"1\" class=\"dataframe\">\n",
       "  <thead>\n",
       "    <tr style=\"text-align: right;\">\n",
       "      <th></th>\n",
       "      <th>slice_file_name</th>\n",
       "      <th>fsID</th>\n",
       "      <th>start</th>\n",
       "      <th>end</th>\n",
       "      <th>salience</th>\n",
       "      <th>fold</th>\n",
       "      <th>classID</th>\n",
       "      <th>class</th>\n",
       "    </tr>\n",
       "  </thead>\n",
       "  <tbody>\n",
       "    <tr>\n",
       "      <th>0</th>\n",
       "      <td>100032-3-0-0.wav</td>\n",
       "      <td>100032</td>\n",
       "      <td>0.0</td>\n",
       "      <td>0.317551</td>\n",
       "      <td>1</td>\n",
       "      <td>5</td>\n",
       "      <td>3</td>\n",
       "      <td>dog_bark</td>\n",
       "    </tr>\n",
       "    <tr>\n",
       "      <th>1</th>\n",
       "      <td>100263-2-0-117.wav</td>\n",
       "      <td>100263</td>\n",
       "      <td>58.5</td>\n",
       "      <td>62.500000</td>\n",
       "      <td>1</td>\n",
       "      <td>5</td>\n",
       "      <td>2</td>\n",
       "      <td>children_playing</td>\n",
       "    </tr>\n",
       "    <tr>\n",
       "      <th>2</th>\n",
       "      <td>100263-2-0-121.wav</td>\n",
       "      <td>100263</td>\n",
       "      <td>60.5</td>\n",
       "      <td>64.500000</td>\n",
       "      <td>1</td>\n",
       "      <td>5</td>\n",
       "      <td>2</td>\n",
       "      <td>children_playing</td>\n",
       "    </tr>\n",
       "    <tr>\n",
       "      <th>3</th>\n",
       "      <td>100263-2-0-126.wav</td>\n",
       "      <td>100263</td>\n",
       "      <td>63.0</td>\n",
       "      <td>67.000000</td>\n",
       "      <td>1</td>\n",
       "      <td>5</td>\n",
       "      <td>2</td>\n",
       "      <td>children_playing</td>\n",
       "    </tr>\n",
       "    <tr>\n",
       "      <th>4</th>\n",
       "      <td>100263-2-0-137.wav</td>\n",
       "      <td>100263</td>\n",
       "      <td>68.5</td>\n",
       "      <td>72.500000</td>\n",
       "      <td>1</td>\n",
       "      <td>5</td>\n",
       "      <td>2</td>\n",
       "      <td>children_playing</td>\n",
       "    </tr>\n",
       "  </tbody>\n",
       "</table>\n",
       "</div>"
      ],
      "text/plain": [
       "      slice_file_name    fsID  start        end  salience  fold  classID  \\\n",
       "0    100032-3-0-0.wav  100032    0.0   0.317551         1     5        3   \n",
       "1  100263-2-0-117.wav  100263   58.5  62.500000         1     5        2   \n",
       "2  100263-2-0-121.wav  100263   60.5  64.500000         1     5        2   \n",
       "3  100263-2-0-126.wav  100263   63.0  67.000000         1     5        2   \n",
       "4  100263-2-0-137.wav  100263   68.5  72.500000         1     5        2   \n",
       "\n",
       "              class  \n",
       "0          dog_bark  \n",
       "1  children_playing  \n",
       "2  children_playing  \n",
       "3  children_playing  \n",
       "4  children_playing  "
      ]
     },
     "execution_count": 2,
     "metadata": {},
     "output_type": "execute_result"
    }
   ],
   "source": [
    "files_metadata = pd.read_csv('UrbanSound8K.csv')\n",
    "files_metadata.head()"
   ]
  },
  {
   "cell_type": "code",
   "execution_count": 5,
   "metadata": {},
   "outputs": [
    {
     "name": "stdout",
     "output_type": "stream",
     "text": [
      "<class 'pandas.core.frame.DataFrame'>\n",
      "RangeIndex: 8732 entries, 0 to 8731\n",
      "Data columns (total 8 columns):\n",
      " #   Column           Non-Null Count  Dtype  \n",
      "---  ------           --------------  -----  \n",
      " 0   slice_file_name  8732 non-null   object \n",
      " 1   fsID             8732 non-null   int64  \n",
      " 2   start            8732 non-null   float64\n",
      " 3   end              8732 non-null   float64\n",
      " 4   salience         8732 non-null   int64  \n",
      " 5   fold             8732 non-null   int64  \n",
      " 6   classID          8732 non-null   int64  \n",
      " 7   class            8732 non-null   object \n",
      "dtypes: float64(2), int64(4), object(2)\n",
      "memory usage: 545.9+ KB\n",
      "None\n"
     ]
    }
   ],
   "source": [
    "print(files_metadata.info())"
   ]
  },
  {
   "cell_type": "code",
   "execution_count": 3,
   "metadata": {},
   "outputs": [
    {
     "name": "stdout",
     "output_type": "stream",
     "text": [
      "['air_conditioner' 'car_horn' 'children_playing' 'dog_bark' 'drilling'\n",
      " 'engine_idling' 'gun_shot' 'jackhammer' 'siren' 'street_music']\n"
     ]
    },
    {
     "data": {
      "image/png": "[encoded data removed]",
      "text/plain": [
       "<Figure size 640x480 with 1 Axes>"
      ]
     },
     "metadata": {},
     "output_type": "display_data"
    }
   ],
   "source": [
    "class_dict = files_metadata['class'].value_counts(normalize=True)\n",
    "classes = np.unique(files_metadata['class'])\n",
    "print(classes)\n",
    "colors = ['red', 'green', 'blue', 'orange', 'purple', 'brown', 'pink', 'gray', 'cyan', 'lime']\n",
    "fig, ax = plt.subplots()\n",
    "ax.set_title('Class Distribution', y=1.08, fontsize=18)\n",
    "ax.bar(classes,class_dict.values, color=colors)\n",
    "plt.xticks(rotation=45, ha='right')\n",
    "plt.show(block=False)"
   ]
  },
  {
   "cell_type": "code",
   "execution_count": 5,
   "metadata": {},
   "outputs": [],
   "source": [
    "DURATION = 4\n",
    "SAMPLE_RATE = 44100\n",
    "HOP_LENGTH = round(SAMPLE_RATE * 0.0125)\n",
    "WIN_LENGTH = round(SAMPLE_RATE * 0.023)\n",
    "N_FFT = 2**10\n",
    "TIME_SIZE = 4*SAMPLE_RATE//HOP_LENGTH+1\n",
    "AUDIO_PATH = \"../urbansound8K/audio/\""
   ]
  },
  {
   "cell_type": "code",
   "execution_count": 106,
   "metadata": {},
   "outputs": [],
   "source": [
    "def reformat_audio_data(audio_file_path):\n",
    "    audio_data_res, _ = librosa.load(audio_file_path,sr=SAMPLE_RATE)\n",
    "\n",
    "    audio_duration = librosa.get_duration(y=audio_data_res,sr=SAMPLE_RATE)\n",
    "    if audio_duration < DURATION:\n",
    "        audio_data_adj = np.pad(audio_data_res, (0, int((DURATION-audio_duration)*SAMPLE_RATE)), 'constant')\n",
    "    else:\n",
    "        audio_data_adj = audio_data_res\n",
    "    return audio_data_adj"
   ]
  },
  {
   "cell_type": "code",
   "execution_count": null,
   "metadata": {},
   "outputs": [],
   "source": [
    "fold1_path = os.path.join(AUDIO_PATH, \"fold1\")\n",
    "filenames = os.listdir(fold1_path)\n",
    "index = 54\n",
    "\n",
    "path = os.path.join(fold1_path,filenames[index])\n",
    "\n",
    "audio_data_ori, sr = librosa.load(path,sr=None)\n",
    "audio_data_adj = reformat_audio_data(path)\n",
    "plt.figure(figsize=(16,14))\n",
    "plt.subplot(4,1,1)\n",
    "plt.plot(np.linspace(0, len(audio_data_ori) / sr, num=len(audio_data_ori)), audio_data_ori)\n",
    "plt.title(f'Áudio original sampled a {sr/1000}kHZ - {filenames[index]}')\n",
    "\n",
    "spectrogram = np.abs(librosa.stft(audio_data_ori))\n",
    "plt.subplot(4,1,2)\n",
    "librosa.display.specshow(librosa.amplitude_to_db(spectrogram, ref=np.max), y_axis='log', x_axis='time', sr=sr)\n",
    "plt.title(f'Espectrograma do áudio original com sampling rate de {sr/1000}kHz - {filenames[1]}')\n",
    "plt.colorbar(format='%+2.0f dB')\n",
    "\n",
    "plt.subplot(4,1,3)\n",
    "plt.plot(np.linspace(0, len(audio_data_adj) / SAMPLE_RATE, num=len(audio_data_adj)), audio_data_adj)\n",
    "plt.title(f'Áudio ajustado para 4 segundos e resampled para {SAMPLE_RATE/1000}kHz - {filenames[index]}')\n",
    "\n",
    "spectrogram = np.abs(librosa.stft(audio_data_adj))\n",
    "plt.subplot(4,1,4)\n",
    "librosa.display.specshow(librosa.amplitude_to_db(spectrogram, ref=np.max), y_axis='log', x_axis='time', sr=sr)\n",
    "plt.title(f'Espectrograma do áudio ajustado com sampling rate de {SAMPLE_RATE/1000}kHz - {filenames[1]}')\n",
    "plt.colorbar(format='%+2.0f dB')\n",
    "\n",
    "plt.subplots_adjust(hspace=0.5)"
   ]
  },
  {
   "cell_type": "code",
   "execution_count": 127,
   "metadata": {},
   "outputs": [],
   "source": [
    "def create_MLP(x_train_shape):\n",
    "    modelMLP = Sequential()\n",
    "    modelMLP.add(Dense(256, activation='relu', input_shape=x_train_shape))\n",
    "    modelMLP.add(Dropout(0.1))\n",
    "    modelMLP.add(Dense(256, activation='relu'))\n",
    "    modelMLP.add(Dropout(0.1))\n",
    "    modelMLP.add(Dense(10, activation='softmax'))\n",
    "\n",
    "    modelMLP.compile(optimizer='adam', loss='sparse_categorical_crossentropy')\n",
    "\n",
    "    modelMLP.summary()\n",
    "    return modelMLP"
   ]
  }
 ],
 "metadata": {
  "kernelspec": {
   "display_name": "Python 3 (ipykernel)",
   "language": "python",
   "name": "python3"
  },
  "language_info": {
   "codemirror_mode": {
    "name": "ipython",
    "version": 3
   },
   "file_extension": ".py",
   "mimetype": "text/x-python",
   "name": "python",
   "nbconvert_exporter": "python",
   "pygments_lexer": "ipython3",
   "version": "3.8.10"
  }
 },
 "nbformat": 4,
 "nbformat_minor": 2
}
