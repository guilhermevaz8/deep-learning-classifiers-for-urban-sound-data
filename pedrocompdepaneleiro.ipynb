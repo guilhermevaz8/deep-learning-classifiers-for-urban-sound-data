{
 "cells": [
  {
   "cell_type": "markdown",
   "metadata": {},
   "source": [
    "# CNN Development"
   ]
  },
  {
   "cell_type": "markdown",
   "metadata": {},
   "source": [
    "Library Imports"
   ]
  },
  {
   "cell_type": "code",
   "execution_count": 2,
   "metadata": {},
   "outputs": [
    {
     "name": "stderr",
     "output_type": "stream",
     "text": [
      "2023-12-02 20:04:02.322051: I tensorflow/tsl/cuda/cudart_stub.cc:28] Could not find cuda drivers on your machine, GPU will not be used.\n",
      "2023-12-02 20:04:02.497667: I tensorflow/tsl/cuda/cudart_stub.cc:28] Could not find cuda drivers on your machine, GPU will not be used.\n",
      "2023-12-02 20:04:02.498343: I tensorflow/core/platform/cpu_feature_guard.cc:182] This TensorFlow binary is optimized to use available CPU instructions in performance-critical operations.\n",
      "To enable the following instructions: AVX2 FMA, in other operations, rebuild TensorFlow with the appropriate compiler flags.\n",
      "2023-12-02 20:04:03.713107: W tensorflow/compiler/tf2tensorrt/utils/py_utils.cc:38] TF-TRT Warning: Could not find TensorRT\n"
     ]
    }
   ],
   "source": [
    "import tensorflow as tf\n",
    "from tensorflow import keras\n",
    "from tensorflow.keras import models, layers\n",
    "from keras import regularizers\n",
    "from keras import optimizers\n",
    "from tensorflow.python.client import device_lib\n",
    "import pandas as pd\n",
    "from sklearn.model_selection import train_test_split\n",
    "from sklearn.metrics import confusion_matrix\n",
    "import numpy as np\n",
    "import numpy as np\n",
    "import gc\n",
    "import pandas as pd\n",
    "import os\n",
    "import librosa\n",
    "import soundata\n",
    "from matplotlib import pyplot as plt\n",
    "import warnings\n",
    "warnings.filterwarnings('ignore')"
   ]
  },
  {
   "cell_type": "markdown",
   "metadata": {},
   "source": [
    "## Feature Extraction"
   ]
  },
  {
   "cell_type": "markdown",
   "metadata": {},
   "source": [
    "First of all, we need to load the data. Looking at the metadata from the dataset, we can see the target classes, the folds, and the path to the audio files. We will use the path to load the audio files and extract the features."
   ]
  },
  {
   "cell_type": "code",
   "execution_count": 3,
   "metadata": {},
   "outputs": [
    {
     "data": {
      "text/html": [
       "<div>\n",
       "<style scoped>\n",
       "    .dataframe tbody tr th:only-of-type {\n",
       "        vertical-align: middle;\n",
       "    }\n",
       "\n",
       "    .dataframe tbody tr th {\n",
       "        vertical-align: top;\n",
       "    }\n",
       "\n",
       "    .dataframe thead th {\n",
       "        text-align: right;\n",
       "    }\n",
       "</style>\n",
       "<table border=\"1\" class=\"dataframe\">\n",
       "  <thead>\n",
       "    <tr style=\"text-align: right;\">\n",
       "      <th></th>\n",
       "      <th>slice_file_name</th>\n",
       "      <th>fsID</th>\n",
       "      <th>start</th>\n",
       "      <th>end</th>\n",
       "      <th>salience</th>\n",
       "      <th>fold</th>\n",
       "      <th>classID</th>\n",
       "      <th>class</th>\n",
       "    </tr>\n",
       "  </thead>\n",
       "  <tbody>\n",
       "    <tr>\n",
       "      <th>0</th>\n",
       "      <td>100032-3-0-0.wav</td>\n",
       "      <td>100032</td>\n",
       "      <td>0.000000</td>\n",
       "      <td>0.317551</td>\n",
       "      <td>1</td>\n",
       "      <td>5</td>\n",
       "      <td>3</td>\n",
       "      <td>dog_bark</td>\n",
       "    </tr>\n",
       "    <tr>\n",
       "      <th>1</th>\n",
       "      <td>100263-2-0-117.wav</td>\n",
       "      <td>100263</td>\n",
       "      <td>58.500000</td>\n",
       "      <td>62.500000</td>\n",
       "      <td>1</td>\n",
       "      <td>5</td>\n",
       "      <td>2</td>\n",
       "      <td>children_playing</td>\n",
       "    </tr>\n",
       "    <tr>\n",
       "      <th>2</th>\n",
       "      <td>100263-2-0-121.wav</td>\n",
       "      <td>100263</td>\n",
       "      <td>60.500000</td>\n",
       "      <td>64.500000</td>\n",
       "      <td>1</td>\n",
       "      <td>5</td>\n",
       "      <td>2</td>\n",
       "      <td>children_playing</td>\n",
       "    </tr>\n",
       "    <tr>\n",
       "      <th>3</th>\n",
       "      <td>100263-2-0-126.wav</td>\n",
       "      <td>100263</td>\n",
       "      <td>63.000000</td>\n",
       "      <td>67.000000</td>\n",
       "      <td>1</td>\n",
       "      <td>5</td>\n",
       "      <td>2</td>\n",
       "      <td>children_playing</td>\n",
       "    </tr>\n",
       "    <tr>\n",
       "      <th>4</th>\n",
       "      <td>100263-2-0-137.wav</td>\n",
       "      <td>100263</td>\n",
       "      <td>68.500000</td>\n",
       "      <td>72.500000</td>\n",
       "      <td>1</td>\n",
       "      <td>5</td>\n",
       "      <td>2</td>\n",
       "      <td>children_playing</td>\n",
       "    </tr>\n",
       "    <tr>\n",
       "      <th>...</th>\n",
       "      <td>...</td>\n",
       "      <td>...</td>\n",
       "      <td>...</td>\n",
       "      <td>...</td>\n",
       "      <td>...</td>\n",
       "      <td>...</td>\n",
       "      <td>...</td>\n",
       "      <td>...</td>\n",
       "    </tr>\n",
       "    <tr>\n",
       "      <th>8727</th>\n",
       "      <td>99812-1-2-0.wav</td>\n",
       "      <td>99812</td>\n",
       "      <td>159.522205</td>\n",
       "      <td>163.522205</td>\n",
       "      <td>2</td>\n",
       "      <td>7</td>\n",
       "      <td>1</td>\n",
       "      <td>car_horn</td>\n",
       "    </tr>\n",
       "    <tr>\n",
       "      <th>8728</th>\n",
       "      <td>99812-1-3-0.wav</td>\n",
       "      <td>99812</td>\n",
       "      <td>181.142431</td>\n",
       "      <td>183.284976</td>\n",
       "      <td>2</td>\n",
       "      <td>7</td>\n",
       "      <td>1</td>\n",
       "      <td>car_horn</td>\n",
       "    </tr>\n",
       "    <tr>\n",
       "      <th>8729</th>\n",
       "      <td>99812-1-4-0.wav</td>\n",
       "      <td>99812</td>\n",
       "      <td>242.691902</td>\n",
       "      <td>246.197885</td>\n",
       "      <td>2</td>\n",
       "      <td>7</td>\n",
       "      <td>1</td>\n",
       "      <td>car_horn</td>\n",
       "    </tr>\n",
       "    <tr>\n",
       "      <th>8730</th>\n",
       "      <td>99812-1-5-0.wav</td>\n",
       "      <td>99812</td>\n",
       "      <td>253.209850</td>\n",
       "      <td>255.741948</td>\n",
       "      <td>2</td>\n",
       "      <td>7</td>\n",
       "      <td>1</td>\n",
       "      <td>car_horn</td>\n",
       "    </tr>\n",
       "    <tr>\n",
       "      <th>8731</th>\n",
       "      <td>99812-1-6-0.wav</td>\n",
       "      <td>99812</td>\n",
       "      <td>332.289233</td>\n",
       "      <td>334.821332</td>\n",
       "      <td>2</td>\n",
       "      <td>7</td>\n",
       "      <td>1</td>\n",
       "      <td>car_horn</td>\n",
       "    </tr>\n",
       "  </tbody>\n",
       "</table>\n",
       "<p>8732 rows × 8 columns</p>\n",
       "</div>"
      ],
      "text/plain": [
       "         slice_file_name    fsID       start         end  salience  fold  \\\n",
       "0       100032-3-0-0.wav  100032    0.000000    0.317551         1     5   \n",
       "1     100263-2-0-117.wav  100263   58.500000   62.500000         1     5   \n",
       "2     100263-2-0-121.wav  100263   60.500000   64.500000         1     5   \n",
       "3     100263-2-0-126.wav  100263   63.000000   67.000000         1     5   \n",
       "4     100263-2-0-137.wav  100263   68.500000   72.500000         1     5   \n",
       "...                  ...     ...         ...         ...       ...   ...   \n",
       "8727     99812-1-2-0.wav   99812  159.522205  163.522205         2     7   \n",
       "8728     99812-1-3-0.wav   99812  181.142431  183.284976         2     7   \n",
       "8729     99812-1-4-0.wav   99812  242.691902  246.197885         2     7   \n",
       "8730     99812-1-5-0.wav   99812  253.209850  255.741948         2     7   \n",
       "8731     99812-1-6-0.wav   99812  332.289233  334.821332         2     7   \n",
       "\n",
       "      classID             class  \n",
       "0           3          dog_bark  \n",
       "1           2  children_playing  \n",
       "2           2  children_playing  \n",
       "3           2  children_playing  \n",
       "4           2  children_playing  \n",
       "...       ...               ...  \n",
       "8727        1          car_horn  \n",
       "8728        1          car_horn  \n",
       "8729        1          car_horn  \n",
       "8730        1          car_horn  \n",
       "8731        1          car_horn  \n",
       "\n",
       "[8732 rows x 8 columns]"
      ]
     },
     "execution_count": 3,
     "metadata": {},
     "output_type": "execute_result"
    }
   ],
   "source": [
    "data_info = pd.read_csv(\"UrbanSound8K.csv\")\n",
    "data_info"
   ]
  },
  {
   "cell_type": "markdown",
   "metadata": {},
   "source": [
    "Let's see our class distribution"
   ]
  },
  {
   "cell_type": "code",
   "execution_count": 4,
   "metadata": {},
   "outputs": [],
   "source": [
    "FOLDS_PATH = \"../urbansound8k/audio\"\n",
    "DURATION = 4 # 4 seconds for each audio file\n",
    "SAMPLE_RATE = 22050\n",
    "HOP_LENGTH = round(SAMPLE_RATE * 0.0125)\n",
    "WIN_LENGTH = round(SAMPLE_RATE * 0.023)\n",
    "N_FFT = 2**10\n",
    "TIME_SIZE = 4*SAMPLE_RATE//HOP_LENGTH+1"
   ]
  },
  {
   "cell_type": "code",
   "execution_count": 5,
   "metadata": {},
   "outputs": [],
   "source": [
    "def zero_pad(audio_file_path):\n",
    "    signal, sample_rate = librosa.load(audio_file_path, sr=None)\n",
    "    # resample the sample rate to the target value of SR\n",
    "    signal = librosa.resample(signal, orig_sr=sample_rate, target_sr=SAMPLE_RATE)\n",
    "    # zero padding\n",
    "    if len(signal) < DURATION*SAMPLE_RATE:\n",
    "        signal = np.concatenate([\n",
    "            signal,\n",
    "            np.zeros(shape=(DURATION*SAMPLE_RATE - len(signal), ))\n",
    "        ])\n",
    "    elif len(signal) > DURATION*SAMPLE_RATE:\n",
    "        signal = signal[:DURATION*SAMPLE_RATE]\n",
    "    return signal"
   ]
  },
  {
   "cell_type": "markdown",
   "metadata": {},
   "source": [
    "### Features & Shapes:\n",
    "\n",
    "- 2D Mel Spectrogram: (128, 320)"
   ]
  },
  {
   "cell_type": "markdown",
   "metadata": {},
   "source": [
    "- 2D Chromagram: (121,320)"
   ]
  },
  {
   "cell_type": "code",
   "execution_count": 6,
   "metadata": {},
   "outputs": [
    {
     "name": "stdout",
     "output_type": "stream",
     "text": [
      "Fim do fold1\n",
      "Fim do fold10\n",
      "Fim do fold2\n",
      "Fim do fold3\n",
      "Fim do fold4\n",
      "Fim do fold5\n",
      "Fim do fold6\n",
      "Fim do fold7\n",
      "Fim do fold8\n",
      "Fim do fold9\n",
      "Dataset Completo\n"
     ]
    }
   ],
   "source": [
    "def process_batch(audio_files, FOLDS_PATH, data_info, SAMPLE_RATE, N_FFT, HOP_LENGTH, WIN_LENGTH):\n",
    "    batch_data = []\n",
    "    for audio in audio_files:\n",
    "        classid = data_info[data_info[\"slice_file_name\"] == os.path.basename(audio)][\"classID\"].values[0]\n",
    "        \n",
    "        audio_data, sample_rate = librosa.load(audio)\n",
    "        audio_data = librosa.util.fix_length(audio_data, size=int(4 * SAMPLE_RATE))\n",
    "        \n",
    "        # Extração de características\n",
    "        mel_spec = librosa.feature.melspectrogram(y=audio_data, sr=SAMPLE_RATE, n_fft=N_FFT, hop_length=HOP_LENGTH, win_length=WIN_LENGTH)\n",
    "        mel_spec = librosa.power_to_db(mel_spec, ref=np.max)\n",
    "        chroma = librosa.feature.chroma_stft(y=audio_data, sr=SAMPLE_RATE, n_fft=N_FFT, hop_length=HOP_LENGTH, win_length=WIN_LENGTH, n_chroma=121)\n",
    "\n",
    "        extract = {\n",
    "            \"fold\": fold,\n",
    "            \"mel_spec\": mel_spec,\n",
    "            \"chroma\": chroma,\n",
    "            \"target\": int(classid)\n",
    "        }\n",
    "        batch_data.append(extract)\n",
    "\n",
    "    return batch_data\n",
    "\n",
    "\n",
    "BATCH_SIZE = 50  # Ajuste conforme necessário para se adequar à sua memória\n",
    "\n",
    "# Obter todos os folds e inicializar o DataFrame\n",
    "folds = [fold for fold in os.listdir(FOLDS_PATH) if \"fold\" in fold]\n",
    "all_data = []\n",
    "\n",
    "for fold in folds:\n",
    "    audio_files = librosa.util.find_files(os.path.join(FOLDS_PATH, fold))\n",
    "    audio_files = audio_files[:len(audio_files) // 4]\n",
    "    for i in range(0, len(audio_files), BATCH_SIZE):\n",
    "        batch_files = audio_files[i:i+BATCH_SIZE]\n",
    "        batch_data = process_batch(batch_files, FOLDS_PATH, data_info, SAMPLE_RATE, N_FFT, HOP_LENGTH, WIN_LENGTH)\n",
    "        all_data.extend(batch_data)\n",
    "    print(f\"Fim do {fold}\")\n",
    "    gc.collect()\n",
    "\n",
    "df_data = pd.DataFrame(all_data, columns=[\"fold\", \"mel_spec\", \"chroma\", \"target\"])\n",
    "print(\"Dataset Completo\")"
   ]
  },
  {
   "cell_type": "code",
   "execution_count": 7,
   "metadata": {},
   "outputs": [
    {
     "data": {
      "text/plain": [
       "0       [0.0, 0.0, 0.0, 1.0, 0.0, 0.0, 0.0, 0.0, 0.0, ...\n",
       "1       [0.0, 0.0, 0.0, 1.0, 0.0, 0.0, 0.0, 0.0, 0.0, ...\n",
       "2       [0.0, 0.0, 0.0, 1.0, 0.0, 0.0, 0.0, 0.0, 0.0, ...\n",
       "3       [0.0, 0.0, 0.0, 1.0, 0.0, 0.0, 0.0, 0.0, 0.0, ...\n",
       "4       [0.0, 0.0, 0.0, 0.0, 0.0, 0.0, 1.0, 0.0, 0.0, ...\n",
       "                              ...                        \n",
       "1082    [0.0, 0.0, 0.0, 1.0, 0.0, 0.0, 0.0, 0.0, 0.0, ...\n",
       "1083    [0.0, 0.0, 0.0, 1.0, 0.0, 0.0, 0.0, 0.0, 0.0, ...\n",
       "1084    [0.0, 0.0, 0.0, 1.0, 0.0, 0.0, 0.0, 0.0, 0.0, ...\n",
       "1085    [0.0, 0.0, 0.0, 1.0, 0.0, 0.0, 0.0, 0.0, 0.0, ...\n",
       "1086    [0.0, 0.0, 0.0, 0.0, 0.0, 0.0, 1.0, 0.0, 0.0, ...\n",
       "Name: target, Length: 1087, dtype: object"
      ]
     },
     "execution_count": 7,
     "metadata": {},
     "output_type": "execute_result"
    }
   ],
   "source": [
    "ohe_targets = np.zeros(\n",
    "        shape=(df_data['target'].size, df_data['target'].max()+1))\n",
    "ohe_targets[np.arange(df_data['target'].size),\n",
    "            df_data['target'].to_numpy(dtype=np.int16)] = 1\n",
    "df_data['target'] = ohe_targets.tolist()\n",
    "df_data['target'].apply(np.array)"
   ]
  },
  {
   "cell_type": "markdown",
   "metadata": {},
   "source": [
    "Let's save into some variables the future shape of the inputs, as the 1D features will be all stacked, the model input for those will have 4 channels."
   ]
  },
  {
   "cell_type": "code",
   "execution_count": 8,
   "metadata": {},
   "outputs": [],
   "source": [
    "mel_shape = (128,320, 1)\n",
    "chroma_shape = (121,320, 1)"
   ]
  },
  {
   "cell_type": "markdown",
   "metadata": {},
   "source": [
    "## Modelo"
   ]
  },
  {
   "cell_type": "code",
   "execution_count": 9,
   "metadata": {},
   "outputs": [],
   "source": [
    "def create_model():\n",
    "    melinput = layers.Input(shape=mel_shape, name='mel_spectogram_input')\n",
    "\n",
    "    mel = layers.Conv2D(8, kernel_size=3, strides=2, padding=\"same\", activation=\"relu\", kernel_initializer='he_normal')(melinput)\n",
    "    mel = layers.MaxPooling2D(padding='same', pool_size=(2, 2))(mel)\n",
    "    mel = layers.Dropout(0.2)(mel)\n",
    "    mel = layers.Flatten()(mel)\n",
    "\n",
    "    chromainput = layers.Input(shape=chroma_shape, name='chromagram_input')\n",
    "\n",
    "    chroma = layers.Conv2D(8, kernel_size=3, strides=2, activation=\"relu\", kernel_initializer='he_normal')(chromainput)\n",
    "    chroma = layers.MaxPooling2D(padding='same', pool_size=(2, 2))(chroma)\n",
    "    chroma = layers.Dropout(0.2)(chroma)\n",
    "    chroma = layers.Flatten()(chroma)\n",
    "\n",
    "    combined = layers.concatenate([mel, chroma])\n",
    "\n",
    "    combined = layers.Dense(128, activation=\"relu\", kernel_initializer='he_normal')(combined)\n",
    "    combined = layers.Dropout(0.2)(combined)\n",
    "\n",
    "    output = layers.Dense(10, activation='softmax')(combined)\n",
    "\n",
    "    model = keras.Model(inputs=[melinput, chromainput], outputs=[output])\n",
    "\n",
    "    return model\n"
   ]
  },
  {
   "cell_type": "code",
   "execution_count": 10,
   "metadata": {},
   "outputs": [
    {
     "name": "stdout",
     "output_type": "stream",
     "text": [
      "Model: \"model\"\n",
      "__________________________________________________________________________________________________\n",
      " Layer (type)                   Output Shape         Param #     Connected to                     \n",
      "==================================================================================================\n",
      " mel_spectogram_input (InputLay  [(None, 128, 320, 1  0          []                               \n",
      " er)                            )]                                                                \n",
      "                                                                                                  \n",
      " chromagram_input (InputLayer)  [(None, 121, 320, 1  0           []                               \n",
      "                                )]                                                                \n",
      "                                                                                                  \n",
      " conv2d (Conv2D)                (None, 64, 160, 8)   80          ['mel_spectogram_input[0][0]']   \n",
      "                                                                                                  \n",
      " conv2d_1 (Conv2D)              (None, 60, 159, 8)   80          ['chromagram_input[0][0]']       \n",
      "                                                                                                  \n",
      " max_pooling2d (MaxPooling2D)   (None, 32, 80, 8)    0           ['conv2d[0][0]']                 \n",
      "                                                                                                  \n",
      " max_pooling2d_1 (MaxPooling2D)  (None, 30, 80, 8)   0           ['conv2d_1[0][0]']               \n",
      "                                                                                                  \n",
      " dropout (Dropout)              (None, 32, 80, 8)    0           ['max_pooling2d[0][0]']          \n",
      "                                                                                                  \n",
      " dropout_1 (Dropout)            (None, 30, 80, 8)    0           ['max_pooling2d_1[0][0]']        \n",
      "                                                                                                  \n",
      " flatten (Flatten)              (None, 20480)        0           ['dropout[0][0]']                \n",
      "                                                                                                  \n",
      " flatten_1 (Flatten)            (None, 19200)        0           ['dropout_1[0][0]']              \n",
      "                                                                                                  \n",
      " concatenate (Concatenate)      (None, 39680)        0           ['flatten[0][0]',                \n",
      "                                                                  'flatten_1[0][0]']              \n",
      "                                                                                                  \n",
      " dense (Dense)                  (None, 128)          5079168     ['concatenate[0][0]']            \n",
      "                                                                                                  \n",
      " dropout_2 (Dropout)            (None, 128)          0           ['dense[0][0]']                  \n",
      "                                                                                                  \n",
      " dense_1 (Dense)                (None, 10)           1290        ['dropout_2[0][0]']              \n",
      "                                                                                                  \n",
      "==================================================================================================\n",
      "Total params: 5,080,618\n",
      "Trainable params: 5,080,618\n",
      "Non-trainable params: 0\n",
      "__________________________________________________________________________________________________\n"
     ]
    },
    {
     "name": "stderr",
     "output_type": "stream",
     "text": [
      "2023-12-02 20:05:59.848477: I tensorflow/compiler/xla/stream_executor/cuda/cuda_gpu_executor.cc:982] could not open file to read NUMA node: /sys/bus/pci/devices/0000:01:00.0/numa_node\n",
      "Your kernel may have been built without NUMA support.\n",
      "2023-12-02 20:05:59.973263: W tensorflow/core/common_runtime/gpu/gpu_device.cc:1956] Cannot dlopen some GPU libraries. Please make sure the missing libraries mentioned above are installed properly if you would like to use GPU. Follow the guide at https://www.tensorflow.org/install/gpu for how to download and setup the required libraries for your platform.\n",
      "Skipping registering GPU devices...\n"
     ]
    }
   ],
   "source": [
    "model = create_model()\n",
    "\n",
    "adam = optimizers.Adam(lr=0.001)\n",
    "\n",
    "model.compile(\n",
    "        optimizer=adam,\n",
    "        loss=\"categorical_crossentropy\",\n",
    "        metrics=[\"accuracy\"]\n",
    "        )\n",
    "\n",
    "model.summary()"
   ]
  },
  {
   "cell_type": "code",
   "execution_count": 11,
   "metadata": {},
   "outputs": [
    {
     "data": {
      "image/png": "[encoded data removed]",
      "text/plain": [
       "<IPython.core.display.Image object>"
      ]
     },
     "execution_count": 11,
     "metadata": {},
     "output_type": "execute_result"
    }
   ],
   "source": [
    "keras.utils.plot_model(model, \"model.png\", show_shapes=True)"
   ]
  },
  {
   "cell_type": "markdown",
   "metadata": {},
   "source": [
    "## Data Reshaping"
   ]
  },
  {
   "cell_type": "markdown",
   "metadata": {},
   "source": [
    "With our model ready to be trained, we just have to separate our data into the training, testing and validation sets. We will also reshape the 1D data to become a NumPy stack."
   ]
  },
  {
   "cell_type": "code",
   "execution_count": 16,
   "metadata": {},
   "outputs": [],
   "source": [
    "def ready_data(fold, df_data):\n",
    "    print(\"Iniciando o processamento do fold:\", fold)\n",
    "\n",
    "    # Dividir o DataFrame original em treino e teste\n",
    "    X_test = df_data[df_data[\"fold\"] == fold]\n",
    "    X_train = df_data[df_data[\"fold\"] != fold]\n",
    "\n",
    "    # Separar os targets (mantendo a codificação one-hot)\n",
    "    y_train = np.array(X_train[\"target\"].tolist())\n",
    "    y_test = np.array(X_test[\"target\"].tolist())\n",
    "\n",
    "    # Carregar os dados de espectrogramas e cromagramas\n",
    "    X_train_mel = np.asarray(X_train[\"mel_spec\"].to_list()).astype(np.float32)\n",
    "    X_train_chroma = np.asarray(X_train[\"chroma\"].to_list()).astype(np.float32)\n",
    "\n",
    "    # Dividir o conjunto de teste em teste e validação\n",
    "    X_test, X_val, y_test, y_val = train_test_split(\n",
    "        X_test, y_test, test_size=0.5, random_state=42\n",
    "    )\n",
    "\n",
    "    # Processar características de validação e teste\n",
    "    X_val_mel = np.asarray(X_val[\"mel_spec\"].to_list()).astype(np.float32)\n",
    "    X_val_chroma = np.asarray(X_val[\"chroma\"].to_list()).astype(np.float32)\n",
    "    X_test_mel = np.asarray(X_test[\"mel_spec\"].to_list()).astype(np.float32)\n",
    "    X_test_chroma = np.asarray(X_test[\"chroma\"].to_list()).astype(np.float32)\n",
    "\n",
    "    # Liberação de memória\n",
    "    del X_train, X_val, X_test\n",
    "    gc.collect()\n",
    "\n",
    "    return X_train_mel, X_train_chroma, y_train, X_val_mel, X_val_chroma, y_val, X_test_mel, X_test_chroma, y_test\n"
   ]
  },
  {
   "cell_type": "markdown",
   "metadata": {},
   "source": [
    "## Metric Variables"
   ]
  },
  {
   "cell_type": "markdown",
   "metadata": {},
   "source": [
    "And, to analyse the 10 models made in the 10 fold cross validation, we will keep useful info in some arrays."
   ]
  },
  {
   "cell_type": "markdown",
   "metadata": {},
   "source": [
    "## 10-Fold Cross Validation"
   ]
  },
  {
   "cell_type": "markdown",
   "metadata": {},
   "source": [
    "The model will be fit using the Adam optimizar, we will use categorical (hence why we one hot encoded the class labels) crossentropy as our loss function, and we will use accuracy to analyse how well our model performs.\n",
    "\n",
    "We will also input the data in batches of 64, and, from previous testings, we will define the number of epochs to 50, as more start to take too much time to train with a low yield of results."
   ]
  },
  {
   "cell_type": "code",
   "execution_count": null,
   "metadata": {},
   "outputs": [
    {
     "name": "stdout",
     "output_type": "stream",
     "text": [
      "Fold 1:\n",
      "ai\n",
      "ai\n",
      "Iniciando o processamento do fold: fold1\n",
      "ai\n",
      "Epoch 1/10\n",
      "31/31 [==============================] - 2s 65ms/step - loss: 212.8748 - accuracy: 0.1513 - val_loss: 2.2994 - val_accuracy: 0.2364\n",
      "Epoch 2/10\n",
      "27/31 [=========================>....] - ETA: 3s - loss: 2.8429 - accuracy: 0.2766"
     ]
    }
   ],
   "source": [
    "EPOCHS = 10\n",
    "fold_metrics = {}\n",
    "\n",
    "for i in range(1,11):\n",
    "    fold = \"fold\" + str(i)\n",
    "    print(\"Fold \" + str(i) + \":\")\n",
    "\n",
    "    # Reinicialize seu modelo aqui\n",
    "    print(\"ai\")\n",
    "    \n",
    "    model = create_model()  # Certifique-se de que esta função reconstrói o modelo do zero\n",
    "    print(\"ai\")\n",
    "    \n",
    "    adam = optimizers.Adam(lr=0.001)\n",
    "\n",
    "    model.compile(\n",
    "        optimizer=adam,\n",
    "        loss=\"categorical_crossentropy\",\n",
    "        metrics=[\"accuracy\"]\n",
    "        )\n",
    "\n",
    "    # Prepare os dados\n",
    "    X_train_mel, X_train_chroma, y_train, X_val_mel, X_val_chroma, y_val, X_test_mel, X_test_chroma, y_test = ready_data(fold,df_data)\n",
    "    print(\"ai\")\n",
    "\n",
    "    # Treinamento do modelo\n",
    "    history = model.fit(\n",
    "        {'mel_spectogram_input': X_train_mel, 'chromagram_input': X_train_chroma},\n",
    "        y=y_train,\n",
    "        validation_data=({'mel_spectogram_input': X_val_mel, 'chromagram_input': X_val_chroma}, y_val),\n",
    "        epochs=EPOCHS,\n",
    "        batch_size=32\n",
    "    )\n",
    "    print(\"ai\")\n",
    "\n",
    "    # Avaliação do modelo\n",
    "    evaluation = model.evaluate(x={'mel_spectogram_input': X_test_mel, 'chromagram_input': X_test_chroma}, y=y_test)\n",
    "    y_pred = model.predict(x={'mel_spectogram_input': X_test_mel, 'chromagram_input': X_test_chroma})\n",
    "    print(\"ai\")\n",
    "\n",
    "    y_pred_reshape = np.argmax(y_pred, axis=1)\n",
    "    y_test_reshape = np.argmax(y_test, axis=1)\n",
    "    print(\"ai\")\n",
    "\n",
    "    # Salvando métricas\n",
    "    m_metrics = {'loss': evaluation[0], 'accuracy': evaluation[1], 'confusion_matrix': confusion_matrix(y_test_reshape, y_pred_reshape), 'history': history.history}\n",
    "    fold_metrics[f\"fold{i}\"] = m_metrics\n",
    "    print(\"ai\")\n",
    "\n",
    "# Liberação de memória\n",
    "gc.collect()\n",
    "\n",
    "print(\"Done.\")"
   ]
  },
  {
   "cell_type": "markdown",
   "metadata": {},
   "source": [
    "## Model Analysis"
   ]
  },
  {
   "cell_type": "markdown",
   "metadata": {},
   "source": [
    "### Accuracy & Loss "
   ]
  },
  {
   "cell_type": "code",
   "execution_count": 14,
   "metadata": {},
   "outputs": [
    {
     "ename": "KeyError",
     "evalue": "0",
     "output_type": "error",
     "traceback": [
      "\u001b[0;31m---------------------------------------------------------------------------\u001b[0m",
      "\u001b[0;31mKeyError\u001b[0m                                  Traceback (most recent call last)",
      "Cell \u001b[0;32mIn[14], line 9\u001b[0m\n\u001b[1;32m      6\u001b[0m fig, ax \u001b[38;5;241m=\u001b[39m plt\u001b[38;5;241m.\u001b[39msubplots(\u001b[38;5;28mlen\u001b[39m(fold_metrics),\u001b[38;5;241m2\u001b[39m,figsize\u001b[38;5;241m=\u001b[39m(\u001b[38;5;241m10\u001b[39m,\u001b[38;5;241m5\u001b[39m\u001b[38;5;241m*\u001b[39m\u001b[38;5;28mlen\u001b[39m(fold_metrics)))\n\u001b[1;32m      8\u001b[0m \u001b[38;5;28;01mfor\u001b[39;00m i \u001b[38;5;129;01min\u001b[39;00m \u001b[38;5;28mrange\u001b[39m(\u001b[38;5;241m0\u001b[39m,\u001b[38;5;28mlen\u001b[39m(fold_metrics)):\n\u001b[0;32m----> 9\u001b[0m     history_dict \u001b[38;5;241m=\u001b[39m \u001b[43mfold_metrics\u001b[49m\u001b[43m[\u001b[49m\u001b[43mi\u001b[49m\u001b[43m]\u001b[49m\u001b[38;5;241m.\u001b[39mget(\u001b[38;5;124m'\u001b[39m\u001b[38;5;124mhistory_dict\u001b[39m\u001b[38;5;124m'\u001b[39m)\n\u001b[1;32m     10\u001b[0m     loss_values\u001b[38;5;241m=\u001b[39mhistory_dict[\u001b[38;5;124m'\u001b[39m\u001b[38;5;124mloss\u001b[39m\u001b[38;5;124m'\u001b[39m]\n\u001b[1;32m     11\u001b[0m     acc_values\u001b[38;5;241m=\u001b[39mhistory_dict[\u001b[38;5;124m'\u001b[39m\u001b[38;5;124maccuracy\u001b[39m\u001b[38;5;124m'\u001b[39m]\n",
      "\u001b[0;31mKeyError\u001b[0m: 0"
     ]
    },
    {
     "data": {
      "image/png": "[encoded data removed]",
      "text/plain": [
       "<Figure size 1000x500 with 2 Axes>"
      ]
     },
     "metadata": {},
     "output_type": "display_data"
    }
   ],
   "source": [
    "EPOCHS = 50\n",
    "\n",
    "import matplotlib.pyplot as plt\n",
    "epochs = range(1, EPOCHS + 1)\n",
    "\n",
    "fig, ax = plt.subplots(len(fold_metrics),2,figsize=(10,5*len(fold_metrics)))\n",
    "\n",
    "for i in range(0,len(fold_metrics)):\n",
    "    history_dict = fold_metrics[i].get('history_dict')\n",
    "    loss_values=history_dict['loss']\n",
    "    acc_values=history_dict['accuracy']\n",
    "    val_loss_values = history_dict['val_loss']\n",
    "    val_acc_values = history_dict['val_accuracy']\n",
    "\n",
    "    ax[i,0].plot(epochs,loss_values,'co',label='Training Loss')\n",
    "    ax[i,0].plot(epochs,val_loss_values,'m', label='Validation Loss')\n",
    "    ax[i,0].set_title('Training and validation loss on fold '+str(i+1)+' of 10')\n",
    "    ax[i,0].set_xlabel('Epochs')\n",
    "    ax[i,0].set_ylabel('Loss')\n",
    "    ax[i,0].legend()\n",
    "\n",
    "    ax[i,1].plot(epochs,acc_values,'co', label='Training accuracy')\n",
    "    ax[i,1].plot(epochs,val_acc_values,'m', label='Validation accuracy')\n",
    "    ax[i,1].set_title('Training and validation accuracy on fold '+str(i+1)+' of 10')\n",
    "    ax[i,1].set_xlabel('Epochs')\n",
    "    ax[i,1].set_ylabel('Accuracy')\n",
    "    ax[i,1].legend()\n",
    "plt.show()"
   ]
  },
  {
   "cell_type": "markdown",
   "metadata": {},
   "source": [
    "It is worth noting that as the loss is continuous and the class labels are categorical, we can see some seemingly random jumps in the validation accuracy. This is due to the fact that as the loss keeps getting lower, some classification might be categorized incorrectly, altough the model keeps getting closer to correct classifications. We can notice the \"rubber banding\" of the accuracy catching up with training loss as more epochs go by.\n",
    "\n",
    "Altough we only trained 50 epochs, as the training and validation loss did not start receding / showing signs of overfitting, we can safely assume more epochs will yield a model with better accuracy."
   ]
  },
  {
   "cell_type": "markdown",
   "metadata": {},
   "source": [
    "### Average Accuracy and Standard Deviation"
   ]
  },
  {
   "cell_type": "code",
   "execution_count": 15,
   "metadata": {},
   "outputs": [
    {
     "ename": "AttributeError",
     "evalue": "'str' object has no attribute 'get'",
     "output_type": "error",
     "traceback": [
      "\u001b[0;31m---------------------------------------------------------------------------\u001b[0m",
      "\u001b[0;31mAttributeError\u001b[0m                            Traceback (most recent call last)",
      "Cell \u001b[0;32mIn[15], line 4\u001b[0m\n\u001b[1;32m      2\u001b[0m train_lst \u001b[38;5;241m=\u001b[39m []\n\u001b[1;32m      3\u001b[0m \u001b[38;5;28;01mfor\u001b[39;00m i \u001b[38;5;129;01min\u001b[39;00m fold_metrics:\n\u001b[0;32m----> 4\u001b[0m     avg_train_acc \u001b[38;5;241m+\u001b[39m\u001b[38;5;241m=\u001b[39m \u001b[38;5;28mmax\u001b[39m(\u001b[43mi\u001b[49m\u001b[38;5;241;43m.\u001b[39;49m\u001b[43mget\u001b[49m(\u001b[38;5;124m'\u001b[39m\u001b[38;5;124mhistory_dict\u001b[39m\u001b[38;5;124m'\u001b[39m)\u001b[38;5;241m.\u001b[39mget(\u001b[38;5;124m'\u001b[39m\u001b[38;5;124maccuracy\u001b[39m\u001b[38;5;124m'\u001b[39m))\n\u001b[1;32m      5\u001b[0m     train_lst\u001b[38;5;241m.\u001b[39mappend(\u001b[38;5;28mmax\u001b[39m(i\u001b[38;5;241m.\u001b[39mget(\u001b[38;5;124m'\u001b[39m\u001b[38;5;124mhistory_dict\u001b[39m\u001b[38;5;124m'\u001b[39m)\u001b[38;5;241m.\u001b[39mget(\u001b[38;5;124m'\u001b[39m\u001b[38;5;124maccuracy\u001b[39m\u001b[38;5;124m'\u001b[39m)))\n\u001b[1;32m      7\u001b[0m \u001b[38;5;28mprint\u001b[39m(\u001b[38;5;124m\"\u001b[39m\u001b[38;5;132;01m%.4f\u001b[39;00m\u001b[38;5;124m +- \u001b[39m\u001b[38;5;132;01m%.4f\u001b[39;00m\u001b[38;5;124m average train accuracy across all folds.\u001b[39m\u001b[38;5;124m\"\u001b[39m \u001b[38;5;241m%\u001b[39m (avg_train_acc\u001b[38;5;241m/\u001b[39m\u001b[38;5;28mlen\u001b[39m(fold_metrics) , np\u001b[38;5;241m.\u001b[39mstd(train_lst)))\n",
      "\u001b[0;31mAttributeError\u001b[0m: 'str' object has no attribute 'get'"
     ]
    }
   ],
   "source": [
    "avg_train_acc = 0\n",
    "train_lst = []\n",
    "for i in fold_metrics:\n",
    "    avg_train_acc += max(i.get('history_dict').get('accuracy'))\n",
    "    train_lst.append(max(i.get('history_dict').get('accuracy')))\n",
    "    \n",
    "print(\"%.4f +- %.4f average train accuracy across all folds.\" % (avg_train_acc/len(fold_metrics) , np.std(train_lst)))\n",
    "\n",
    "avg_val_acc = 0\n",
    "val_lst = []\n",
    "for i in fold_metrics:\n",
    "    avg_val_acc += max(i.get('history_dict').get('val_accuracy'))\n",
    "    val_lst.append(max(i.get('history_dict').get('val_accuracy')))\n",
    "\n",
    "print(\"%.4f +- %.4f average validation accuracy across all folds.\" %(avg_val_acc / len(fold_metrics), np.std(val_lst)))\n",
    "\n",
    "avg_test_acc = 0\n",
    "test_lst = []\n",
    "for i in fold_metrics:\n",
    "    avg_test_acc += i.get('accuracy')\n",
    "    test_lst.append(i.get('accuracy'))\n",
    "\n",
    "print(\"%.4f +- %.4f average test accuracy across all folds.\" % (avg_test_acc / len(fold_metrics), np.std(test_lst)))"
   ]
  },
  {
   "cell_type": "markdown",
   "metadata": {},
   "source": [
    "We can see that the model provides sufficiently good results, with ~80% accuracy on the training, and between 65-70% in both validation and testing sets."
   ]
  },
  {
   "cell_type": "markdown",
   "metadata": {},
   "source": [
    "### Confusion Matrix"
   ]
  },
  {
   "cell_type": "markdown",
   "metadata": {},
   "source": [
    "We can also see the confusion matrices of every fold, they all look pretty similar. We can notice some points where the model clearly failed to predict some of the classes, but overall, it looks good."
   ]
  },
  {
   "cell_type": "code",
   "execution_count": null,
   "metadata": {},
   "outputs": [],
   "source": [
    "import seaborn as sns\n",
    "\n",
    "fig, ax =plt.subplots(5, 2, figsize=(15,3*len(fold_metrics)))\n",
    "\n",
    "for i in range(0,len(fold_metrics)):\n",
    "    cm = fold_metrics[i].get('confusion_matrix')\n",
    "    ax[i//2,i%2].set_title('Confusion matrix on fold '+str(i+1)+' of 10')\n",
    "    ax[i//2,i%2].set_xlabel('Predicted label')\n",
    "    ax[i//2,i%2].set_ylabel('Actual label')\n",
    "    sns.heatmap(cm, annot=True, fmt=\".0f\", linewidths=.5, square = True, cmap = 'RdYlGn', ax=ax[i//2,i%2])\n",
    "\n",
    "plt.show()\n"
   ]
  },
  {
   "cell_type": "markdown",
   "metadata": {},
   "source": [
    "And here we have the sum of all confusion matrices:"
   ]
  },
  {
   "cell_type": "code",
   "execution_count": null,
   "metadata": {},
   "outputs": [],
   "source": [
    "cm = np.zeros(shape=(10,10))\n",
    "for i in fold_metrics:\n",
    "    cm += i.get('confusion_matrix')\n",
    "\n",
    "cm = cm.astype('float') / cm.sum(axis=1)[:, np.newaxis]\n",
    "cm = cm * 100\n",
    "\n",
    "\n",
    "fig, ax =plt.subplots(1, 1, figsize=(10,8))\n",
    "ax.set_title('Confusion matrix on all folds')\n",
    "ax.set_xlabel('Predicted label')\n",
    "ax.set_ylabel('Actual label')\n",
    "ax.invert_yaxis()\n",
    "sns.heatmap(cm, annot=True, fmt=\".2f %\", linewidths=.5, square = True, cmap = 'RdYlGn', ax=ax)\n"
   ]
  }
 ],
 "metadata": {
  "kernelspec": {
   "display_name": "Python 3 (ipykernel)",
   "language": "python",
   "name": "python3"
  },
  "language_info": {
   "codemirror_mode": {
    "name": "ipython",
    "version": 3
   },
   "file_extension": ".py",
   "mimetype": "text/x-python",
   "name": "python",
   "nbconvert_exporter": "python",
   "pygments_lexer": "ipython3",
   "version": "3.8.10"
  }
 },
 "nbformat": 4,
 "nbformat_minor": 2
}
